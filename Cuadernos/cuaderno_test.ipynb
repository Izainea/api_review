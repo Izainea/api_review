{
 "cells": [
  {
   "cell_type": "code",
   "execution_count": 8,
   "metadata": {},
   "outputs": [
    {
     "data": {
      "text/plain": [
       "('Copa_Libertadores_2023_Complete_Goal_Scorers.csv',\n",
       "          Player    Country               Team  Goals  Penalty Goals\n",
       " 0   Germán Cano  Argentina      Fluminense RJ     13              0\n",
       " 1      Paulinho     Brasil   Atlético Mineiro      7              0\n",
       " 2  Dorlan Pabón   Colombia  Atlético Nacional      6              2\n",
       " 3  Alan Patrick     Brasil      Internacional      5              1\n",
       " 4         Artur     Brasil          Palmeiras      5              0)"
      ]
     },
     "execution_count": 8,
     "metadata": {},
     "output_type": "execute_result"
    }
   ],
   "source": [
    "import re\n",
    "import pandas as pd\n",
    "import fitz  # PyMuPDF\n",
    "\n",
    "# Extracting data using regular expressions\n",
    "pattern = re.compile(r'\\n(.*?)\\n(.*?)\\n(.*?)\\n(\\d+) \\((\\d+)\\)')\n",
    "\n",
    "\n",
    "# Open the PDF file\n",
    "pdf_path = '/home/izainea/Descargas/Copa Libertadores 2023 » Máximos goleadores.pdf'  # Reemplaza esto con la ruta real al archivo PDF\n",
    "pdf_document = fitz.open(pdf_path)\n",
    "\n",
    "# Extract text from each page\n",
    "new_extracted_text = \"\"\n",
    "for page_num in range(len(pdf_document)):\n",
    "    page = pdf_document.load_page(page_num)\n",
    "    new_extracted_text += page.get_text()\n",
    "\n",
    "# Close the PDF document\n",
    "pdf_document.close()\n",
    "\n",
    "# El texto extraído se almacena ahora en la variable 'extracted_text'\n",
    "\n",
    "\n",
    "# Re-extracting the data with the updated text, including all players\n",
    "\n",
    "# Updated regular expression pattern to match all players\n",
    "updated_matches = re.findall(pattern, new_extracted_text)\n",
    "\n",
    "# Creating a new DataFrame with the updated data\n",
    "updated_df = pd.DataFrame(updated_matches, columns=['Player', 'Country', 'Team', 'Goals', 'Penalty Goals'])\n",
    "#updated_df['Rank'] = updated_df['Rank'].astype(int)\n",
    "updated_df['Goals'] = updated_df['Goals'].astype(int)\n",
    "updated_df['Penalty Goals'] = updated_df['Penalty Goals'].astype(int)\n",
    "\n",
    "# Saving the updated DataFrame to a new CSV file\n",
    "updated_csv_file_path = 'Copa_Libertadores_2023_Complete_Goal_Scorers.csv'\n",
    "updated_df.to_csv(updated_csv_file_path, index=False)\n",
    "\n",
    "updated_csv_file_path, updated_df.head()  # Displaying the file path and first few rows of the DataFrame\n"
   ]
  },
  {
   "cell_type": "code",
   "execution_count": 10,
   "metadata": {},
   "outputs": [
    {
     "data": {
      "text/plain": [
       "(232, 5)"
      ]
     },
     "execution_count": 10,
     "metadata": {},
     "output_type": "execute_result"
    }
   ],
   "source": [
    "updated_df.shape"
   ]
  },
  {
   "cell_type": "code",
   "execution_count": null,
   "metadata": {},
   "outputs": [],
   "source": []
  }
 ],
 "metadata": {
  "kernelspec": {
   "display_name": "base",
   "language": "python",
   "name": "python3"
  },
  "language_info": {
   "codemirror_mode": {
    "name": "ipython",
    "version": 3
   },
   "file_extension": ".py",
   "mimetype": "text/x-python",
   "name": "python",
   "nbconvert_exporter": "python",
   "pygments_lexer": "ipython3",
   "version": "3.11.4"
  }
 },
 "nbformat": 4,
 "nbformat_minor": 2
}

{
 "cells": [
  {
   "cell_type": "markdown",
   "id": "85db5cc9",
   "metadata": {},
   "source": [
    "# Construcción de una API con FastAPI para Acceder a Datos de la Copa Libertadores 2023\n",
    "\n",
    "Este cuaderno proporciona una guía paso a paso para construir una API usando FastAPI, que permite acceder a los datos de los goleadores de la Copa Libertadores 2023.\n",
    "\n",
    "## Requisitos\n",
    "- Python 3.6+\n",
    "- FastAPI\n",
    "- Uvicorn (servidor ASGI)\n",
    "    "
   ]
  },
  {
   "cell_type": "markdown",
   "id": "d69aa4b0",
   "metadata": {},
   "source": [
    "## Instalación de FastAPI y Uvicorn\n",
    "\n",
    "Para instalar FastAPI y Uvicorn, ejecuta el siguiente comando:\n",
    "\n",
    "```bash\n",
    "pip install fastapi uvicorn\n",
    "```\n",
    "    "
   ]
  },
  {
   "cell_type": "markdown",
   "id": "6d86655a",
   "metadata": {},
   "source": [
    "## Creación del Archivo Principal de la API\n",
    "\n",
    "Crea un archivo Python (por ejemplo, `main.py`) y escribe el siguiente código para definir tu API:\n",
    "\n",
    "```python\n",
    "from fastapi import FastAPI\n",
    "from pydantic import BaseModel\n",
    "import pandas as pd\n",
    "\n",
    "# Crear la instancia de FastAPI\n",
    "app = FastAPI()\n",
    "\n",
    "# Cargar los datos\n",
    "df = pd.read_csv('/path/to/your/data.csv')\n",
    "\n",
    "# Modelo de Pydantic para la validación de datos\n",
    "class Player(BaseModel):\n",
    "    name: str\n",
    "    team: str\n",
    "    country: str\n",
    "    team_nationality: str\n",
    "    goals: int\n",
    "    penalty_goals: int\n",
    "\n",
    "@app.get(\"/\")\n",
    "def read_root():\n",
    "    return {\"Hello\": \"World\"}\n",
    "\n",
    "@app.get(\"/players/\")\n",
    "def read_players():\n",
    "    return df.to_dict(orient='records')\n",
    "\n",
    "@app.get(\"/players/{player_name}\")\n",
    "def read_player(player_name: str):\n",
    "    player_data = df[df['Player'] == player_name].to_dict(orient='records')\n",
    "    if player_data:\n",
    "        return player_data\n",
    "    return {\"error\": \"Player not found\"}\n",
    "```\n",
    "    "
   ]
  },
  {
   "cell_type": "markdown",
   "id": "55ae3684",
   "metadata": {},
   "source": [
    "## Ejecución de la API\n",
    "\n",
    "Para ejecutar la API, utiliza el siguiente comando:\n",
    "\n",
    "```bash\n",
    "uvicorn main:app --reload\n",
    "```\n",
    "\n",
    "Esto iniciará un servidor local en `http://127.0.0.1:8000`. Puedes acceder a la documentación de tu API en `http://127.0.0.1:8000/docs`.\n",
    "    "
   ]
  }
 ],
 "metadata": {},
 "nbformat": 4,
 "nbformat_minor": 5
}

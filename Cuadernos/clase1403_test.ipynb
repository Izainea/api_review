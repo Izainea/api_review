{
 "cells": [
  {
   "cell_type": "code",
   "execution_count": 5,
   "metadata": {},
   "outputs": [
    {
     "name": "stdout",
     "output_type": "stream",
     "text": [
      "[[0.89836243 0.10163757]]\n"
     ]
    }
   ],
   "source": [
    "import pandas as pd\n",
    "import joblib\n",
    "\n",
    "\n",
    "Ejemplo_consulta=pd.DataFrame({'age': [39],\n",
    " 'workclass': ['Private'],\n",
    " 'education': ['Some-college'],\n",
    " 'education-num': [10],\n",
    " 'marital-status': ['Never-married'],\n",
    " 'occupation': ['Exec-managerial'],\n",
    " 'relationship': ['Not-in-family'],\n",
    " 'race': ['White'],\n",
    " 'sex': ['Male'],\n",
    " 'capital-gain': [0],\n",
    " 'capital-loss': [0],\n",
    " 'hours-per-week': [45],\n",
    " 'native-country': ['United-States']})\n",
    "\n",
    "# Cargamos el modelo\n",
    "\n",
    "model = joblib.load('pipeline.pkl')\n",
    "\n",
    "# Realizamos la predicción\n",
    "\n",
    "prediccion = model.predict_proba(Ejemplo_consulta)\n",
    "\n",
    "print(prediccion)"
   ]
  },
  {
   "cell_type": "code",
   "execution_count": null,
   "metadata": {},
   "outputs": [],
   "source": []
  }
 ],
 "metadata": {
  "kernelspec": {
   "display_name": "ext",
   "language": "python",
   "name": "python3"
  },
  "language_info": {
   "codemirror_mode": {
    "name": "ipython",
    "version": 3
   },
   "file_extension": ".py",
   "mimetype": "text/x-python",
   "name": "python",
   "nbconvert_exporter": "python",
   "pygments_lexer": "ipython3",
   "version": "3.11.11"
  }
 },
 "nbformat": 4,
 "nbformat_minor": 2
}

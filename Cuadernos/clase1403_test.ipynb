{
 "cells": [
  {
   "cell_type": "code",
   "execution_count": null,
   "metadata": {},
   "outputs": [
    {
     "name": "stdout",
     "output_type": "stream",
     "text": [
      "[[0.77362505 0.22637495]]\n"
     ]
    }
   ],
   "source": [
    "import pandas as pd\n",
    "import joblib\n",
    "\n",
    "\n",
    "Ejemplo_consulta=pd.DataFrame([{'age': 25,\n",
    "  'workclass': 'State-gov',\n",
    "  'education': 'Prof-school',\n",
    "  'education-num': 15,\n",
    "  'marital-status': 'Never-married',\n",
    "  'occupation': 'Machine-op-inspct',\n",
    "  'relationship': 'Not-in-family',\n",
    "  'race': 'Other',\n",
    "  'sex': 'Male',\n",
    "  'capital-gain': 5000,\n",
    "  'capital-loss': 0,\n",
    "  'hours-per-week': 35,\n",
    "  'native-country': 'Columbia'}])\n",
    "\n",
    "# Cargamos el modelo\n",
    "\n",
    "model = joblib.load('pipeline.pkl')\n",
    "\n",
    "# Realizamos la predicción\n",
    "\n",
    "prediccion = model.predict_proba(Ejemplo_consulta)\n",
    "\n",
    "print(prediccion)"
   ]
  },
  {
   "cell_type": "code",
   "execution_count": 13,
   "metadata": {},
   "outputs": [],
   "source": [
    "### NOs conectamos a la API con requests\n",
    "import requests\n",
    "import json\n",
    "\n",
    "url='http://127.0.0.1:8000/adults_model/'\n",
    "\n",
    "data=json.dumps({'age': 25,\n",
    "    'workclass': 'State-gov',\n",
    "    'education': 'Prof-school',\n",
    "    'education-num': 15,\n",
    "    'marital-status': 'Never-married',\n",
    "    'occupation': 'Machine-op-inspct',\n",
    "    'relationship': 'Not-in-family',\n",
    "    'race': 'Other',\n",
    "    'sex': 'Male',\n",
    "    'capital-gain': 5000,\n",
    "    'capital-loss': 0,\n",
    "    'hours-per-week': 35,\n",
    "    'native-country': 'Columbia'})\n",
    "\n",
    "data\n",
    "\n",
    "response=requests.post(url, data=data)"
   ]
  },
  {
   "cell_type": "code",
   "execution_count": 14,
   "metadata": {},
   "outputs": [
    {
     "data": {
      "text/plain": [
       "{'prediction': 0.22637494706521802}"
      ]
     },
     "execution_count": 14,
     "metadata": {},
     "output_type": "execute_result"
    }
   ],
   "source": [
    "response.json()"
   ]
  },
  {
   "cell_type": "code",
   "execution_count": null,
   "metadata": {},
   "outputs": [],
   "source": []
  }
 ],
 "metadata": {
  "kernelspec": {
   "display_name": "api",
   "language": "python",
   "name": "python3"
  },
  "language_info": {
   "codemirror_mode": {
    "name": "ipython",
    "version": 3
   },
   "file_extension": ".py",
   "mimetype": "text/x-python",
   "name": "python",
   "nbconvert_exporter": "python",
   "pygments_lexer": "ipython3",
   "version": "3.11.13"
  }
 },
 "nbformat": 4,
 "nbformat_minor": 2
}
